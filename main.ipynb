{
 "cells": [
  {
   "cell_type": "code",
   "execution_count": 2,
   "source": [
    "####################################################################################\r\n",
    "#                                                                                  #                 \r\n",
    "# Trabalho Final das Disciplinas Estatística Aplicada e Programação com R e Python #\r\n",
    "# Discentes: Isabella Calfa e Taian Feitosa                                        #\r\n",
    "#                                                                                  #\r\n",
    "####################################################################################\r\n",
    "\r\n",
    "#Libs:\r\n",
    "import seaborn as sns\r\n",
    "import pandas as pd\r\n",
    "import numpy as np\r\n",
    "from scipy import stats"
   ],
   "outputs": [],
   "metadata": {}
  },
  {
   "cell_type": "code",
   "execution_count": 3,
   "source": [
    "df1 = pd.read_csv(\"IMDb movies.csv\")\r\n",
    "df2 = pd.read_csv(\"IMDb names.csv\")\r\n",
    "df3 = pd.read_csv(\"IMDb ratings.csv\")\r\n",
    "df4 = pd.read_csv(\"IMDb title_principals.csv\")"
   ],
   "outputs": [
    {
     "output_type": "stream",
     "name": "stderr",
     "text": [
      "C:\\Users\\Isabella Calfa\\anaconda3\\lib\\site-packages\\IPython\\core\\interactiveshell.py:3165: DtypeWarning: Columns (3) have mixed types.Specify dtype option on import or set low_memory=False.\n",
      "  has_raised = await self.run_ast_nodes(code_ast.body, cell_name,\n"
     ]
    }
   ],
   "metadata": {}
  },
  {
   "cell_type": "code",
   "execution_count": 9,
   "source": [
    "#Tratamento de dados df1 (movies.csv)\r\n",
    "#Filmes sem países:\r\n",
    "no_country=df1[df1[\"country\"].isnull()].count()\r\n",
    "print(f'Filmes sem países: {no_country[\"imdb_title_id\"]}')\r\n",
    "no_country_no_company=df1[(df1[\"country\"].isnull() & df1[\"production_company\"].isnull())].count()\r\n",
    "print(f'Filmes sem países e sem companhias: {no_country_no_company[\"imdb_title_id\"]}')\r\n",
    "#Moda do país por companhia que produz: \r\n",
    "print(f'\\n********* Correção por companhia *********')\r\n",
    "modal_country_by_company=df1.groupby([\"production_company\"])[\"country\"].agg(pd.Series.mode).to_frame(name='new_country').reset_index()\r\n",
    "df1=pd.merge(df1,modal_country_by_company, how='left', on=\"production_company\")\r\n",
    "df1.loc[df1[\"country\"].isnull(),\"country\"]=df1.new_country\r\n",
    "no_country=df1[df1[\"country\"].isnull()].count()\r\n",
    "print(f'Filmes sem países pós correção por companhia: {no_country[\"imdb_title_id\"]}')"
   ],
   "outputs": [
    {
     "output_type": "stream",
     "name": "stdout",
     "text": [
      "Filmes sem países: 64\n",
      "Filmes sem países e sem companhias: 18\n",
      "\n",
      "********* Correção por companhia *********\n",
      "Filmes sem países pós correção por companhia: 18\n"
     ]
    }
   ],
   "metadata": {}
  },
  {
   "cell_type": "code",
   "execution_count": 51,
   "source": [
    "#Moda do país por diretor que produz: \r\n",
    "print(f'\\n********* Correção por diretor  *********')\r\n",
    "no_country_no_director=df1[(df1[\"country\"].isnull() & df1[\"director\"].isnull())].count()\r\n",
    "print(f'Filmes sem países e sem diretor: {no_country_no_director[\"imdb_title_id\"]}')\r\n",
    "modal_country_by_director=df1.groupby([\"director\"])[\"country\"].agg(pd.Series.mode).to_frame(name='new_country_director')\r\n",
    "modal_country_by_director\r\n",
    "#movies=pd.merge(movies,modal_country_by_director, how='left', on=\"director\")\r\n",
    "#movies.loc[movies[\"country\"].isnull(),\"country\"]=movies.new_country_director\r\n",
    "#no_country=movies[movies[\"country\"].isnull()].count()\r\n",
    "#print(f'Filmes sem países pós correção por diretor: {no_country[\"imdb_title_id\"]}')"
   ],
   "outputs": [
    {
     "output_type": "stream",
     "name": "stdout",
     "text": [
      "\n",
      "********* Correção por diretor  *********\n",
      "Filmes sem países e sem diretor: 7\n"
     ]
    },
    {
     "output_type": "execute_result",
     "data": {
      "text/plain": [
       "director\n",
       "'Evil' Ted Smith              1\n",
       "'Philthy' Phil Phillips       1\n",
       "A. Balakrishnan               1\n",
       "A. Bhimsingh                  8\n",
       "A. Dean Bell                  2\n",
       "                             ..\n",
       "Ümit Köreken                  1\n",
       "Ümit Ünal                     7\n",
       "Þorsteinn Gunnar Bjarnason    1\n",
       "Þráinn Bertelsson             5\n",
       "Þórhildur Þorleifsdóttir      1\n",
       "Name: country, Length: 34733, dtype: int64"
      ]
     },
     "metadata": {},
     "execution_count": 51
    }
   ],
   "metadata": {}
  },
  {
   "cell_type": "code",
   "execution_count": null,
   "source": [
    "df2"
   ],
   "outputs": [
    {
     "output_type": "error",
     "ename": "NameError",
     "evalue": "name 'df2' is not defined",
     "traceback": [
      "\u001b[1;31m---------------------------------------------------------------------------\u001b[0m",
      "\u001b[1;31mNameError\u001b[0m                                 Traceback (most recent call last)",
      "\u001b[1;32m<ipython-input-2-2068723f1203>\u001b[0m in \u001b[0;36m<module>\u001b[1;34m\u001b[0m\n\u001b[1;32m----> 1\u001b[1;33m \u001b[0mdf2\u001b[0m\u001b[1;33m\u001b[0m\u001b[1;33m\u001b[0m\u001b[0m\n\u001b[0m",
      "\u001b[1;31mNameError\u001b[0m: name 'df2' is not defined"
     ]
    }
   ],
   "metadata": {}
  },
  {
   "cell_type": "code",
   "execution_count": null,
   "source": [
    "df3"
   ],
   "outputs": [
    {
     "output_type": "error",
     "ename": "NameError",
     "evalue": "name 'df3' is not defined",
     "traceback": [
      "\u001b[1;31m---------------------------------------------------------------------------\u001b[0m",
      "\u001b[1;31mNameError\u001b[0m                                 Traceback (most recent call last)",
      "\u001b[1;32m<ipython-input-3-3357e37d2add>\u001b[0m in \u001b[0;36m<module>\u001b[1;34m\u001b[0m\n\u001b[1;32m----> 1\u001b[1;33m \u001b[0mdf3\u001b[0m\u001b[1;33m\u001b[0m\u001b[1;33m\u001b[0m\u001b[0m\n\u001b[0m",
      "\u001b[1;31mNameError\u001b[0m: name 'df3' is not defined"
     ]
    }
   ],
   "metadata": {}
  },
  {
   "cell_type": "code",
   "execution_count": null,
   "source": [
    "df4"
   ],
   "outputs": [
    {
     "output_type": "error",
     "ename": "NameError",
     "evalue": "name 'df4' is not defined",
     "traceback": [
      "\u001b[1;31m---------------------------------------------------------------------------\u001b[0m",
      "\u001b[1;31mNameError\u001b[0m                                 Traceback (most recent call last)",
      "\u001b[1;32m<ipython-input-4-e9ae58f210e4>\u001b[0m in \u001b[0;36m<module>\u001b[1;34m\u001b[0m\n\u001b[1;32m----> 1\u001b[1;33m \u001b[0mdf4\u001b[0m\u001b[1;33m\u001b[0m\u001b[1;33m\u001b[0m\u001b[0m\n\u001b[0m",
      "\u001b[1;31mNameError\u001b[0m: name 'df4' is not defined"
     ]
    }
   ],
   "metadata": {}
  },
  {
   "cell_type": "code",
   "execution_count": null,
   "source": [],
   "outputs": [],
   "metadata": {}
  }
 ],
 "metadata": {
  "orig_nbformat": 4,
  "language_info": {
   "name": "python",
   "version": "3.8.8",
   "mimetype": "text/x-python",
   "codemirror_mode": {
    "name": "ipython",
    "version": 3
   },
   "pygments_lexer": "ipython3",
   "nbconvert_exporter": "python",
   "file_extension": ".py"
  },
  "kernelspec": {
   "name": "python3",
   "display_name": "Python 3.8.8 64-bit ('base': conda)"
  },
  "interpreter": {
   "hash": "0e7ad168d1e1203e24ba0e3f0069322975d9192a3f6583d32d7a13dadcf6adad"
  }
 },
 "nbformat": 4,
 "nbformat_minor": 2
}