{
 "cells": [
  {
   "cell_type": "code",
   "execution_count": 66,
   "source": [
    "####################################################################################\r\n",
    "#                                                                                  #                 \r\n",
    "# Trabalho Final das Disciplinas Estatística Aplicada e Programação com R e Python #\r\n",
    "# Discentes: Isabella Calfa e Taian Feitosa                                        #\r\n",
    "#                                                                                  #\r\n",
    "####################################################################################\r\n",
    "\r\n",
    "#Libs:\r\n",
    "import seaborn as sns\r\n",
    "import pandas as pd\r\n",
    "import numpy as np\r\n",
    "from scipy import stats"
   ],
   "outputs": [],
   "metadata": {}
  },
  {
   "cell_type": "code",
   "execution_count": 284,
   "source": [
    "df1 = pd.read_csv(\"IMDb movies.csv\")\r\n",
    "df2 = pd.read_csv(\"IMDb names.csv\")\r\n",
    "df3 = pd.read_csv(\"IMDb ratings.csv\")\r\n",
    "df4 = pd.read_csv(\"IMDb title_principals.csv\")"
   ],
   "outputs": [
    {
     "output_type": "stream",
     "name": "stderr",
     "text": [
      "C:\\Users\\Isabella Calfa\\anaconda3\\lib\\site-packages\\IPython\\core\\interactiveshell.py:3165: DtypeWarning: Columns (3) have mixed types.Specify dtype option on import or set low_memory=False.\n",
      "  has_raised = await self.run_ast_nodes(code_ast.body, cell_name,\n"
     ]
    }
   ],
   "metadata": {}
  },
  {
   "cell_type": "code",
   "execution_count": null,
   "source": [
    "#Tratamento de dados df1 (movies.csv)\r\n",
    "df1.info()"
   ],
   "outputs": [],
   "metadata": {}
  },
  {
   "cell_type": "code",
   "execution_count": null,
   "source": [
    "#Dados df1 (movies.csv)\r\n",
    "df1.head()\r\n",
    "#Corrigir nomes dos países, idioma, data de publicação (tem algumas só com ano) e ano (tem não int)"
   ],
   "outputs": [],
   "metadata": {}
  },
  {
   "cell_type": "code",
   "execution_count": null,
   "source": [
    "#Vamos tratar as colunas \"country\" e \"language\" para reduzir o quantitativo de valores nulos.\r\n",
    "#Filmes sem países:\r\n",
    "no_country=df1[df1[\"country\"].isnull()].count()\r\n",
    "print(f'Filmes sem países: {no_country[\"imdb_title_id\"]}')\r\n",
    "no_country_no_company=df1[(df1[\"country\"].isnull() & df1[\"production_company\"].isnull())].count()\r\n",
    "print(f'Filmes sem países e sem companhias: {no_country_no_company[\"imdb_title_id\"]}')\r\n",
    "#Moda do país por companhia que produz: \r\n",
    "print(f'\\n********* Correção por companhia *********')\r\n",
    "#modal_country_by_company=df1.groupby([\"production_company\"])[\"country\"].agg(pd.Series.mode).to_frame(name='new_country')\r\n",
    "modal_country_by_company[modal_country_by_company[\"new_country\"].unique()]\r\n",
    "#df1=pd.merge(df1,modal_country_by_company, how='left', on=\"production_company\")\r\n",
    "#df1.loc[df1[\"country\"].isnull(),\"country\"]=df1.new_country\r\n",
    "#df1[(df1[\"imdb_title_id\"]==\"tt3248148\") | (df1[\"imdb_title_id\"]==\"tt0000009\") | (df1[\"imdb_title_id\"]==\"tt10452854\")]\r\n",
    "#no_country=df1[df1[\"country\"].isnull()].count()\r\n",
    "#print(f'Filmes sem países pós correção por companhia: {no_country[\"imdb_title_id\"]}')\r\n",
    "#CORREÇÃO: ENTRANDO ARRAY NO COUNTRY"
   ],
   "outputs": [],
   "metadata": {}
  },
  {
   "cell_type": "code",
   "execution_count": null,
   "source": [
    "df1[df1[\"imdb_title_id\"]==\"tt3248148\"]"
   ],
   "outputs": [],
   "metadata": {}
  },
  {
   "cell_type": "code",
   "execution_count": null,
   "source": [
    "#Substitução de valores NaN e Null por \"Não Identificado\"\r\n",
    "total_rows=df1[\"country\"]\r\n",
    "df1.loc[df1[\"country\"].isnull(),\"country\"]=\"NI\"\r\n",
    "country_null=df1[df1[\"country\"].isnull()].count()\r\n",
    "print(f'Filmes sem países: {country_null[\"imdb_title_id\"]}')\r\n",
    "for i in range(1,len(total_rows)):\r\n",
    "    try:\r\n",
    "        if df1[\"country\"][i] == \"USA\":\r\n",
    "            print(i)\r\n",
    "    except:\r\n",
    "        print('Erro',df1[\"imdb_title_id\"][i])\r\n",
    "#print(f'Filmes com país \"None\": {country_null[\"imdb_title_id\"]}')"
   ],
   "outputs": [],
   "metadata": {}
  },
  {
   "cell_type": "code",
   "execution_count": null,
   "source": [
    "#Quantidade de países (ou grupo de) distintos:\r\n",
    "countries=df1[\"country\"].apply(lambda x: str(x)).unique()\r\n",
    "print(f'Qtd. países (ou grupo): {len(countries):,.0f}.')\r\n",
    "print(f'Países: \\n{countries[:50]}')"
   ],
   "outputs": [],
   "metadata": {}
  },
  {
   "cell_type": "code",
   "execution_count": null,
   "source": [
    "#Definindo quantidade de países:\r\n",
    "n_country=df1.groupby([\"imdb_title_id\"])[df1[df1[\"country\"].str.contains(\",\")]].count()\r\n",
    "n_country.head(5)\r\n",
    "#Definindo país princial:"
   ],
   "outputs": [],
   "metadata": {}
  },
  {
   "cell_type": "code",
   "execution_count": null,
   "source": [
    "#Filmes sem idioma:\r\n",
    "no_country=df1[df1[\"language\"].isnull()].count()\r\n",
    "print(f'Filmes sem idioma: {no_country[\"imdb_title_id\"]}')\r\n",
    "no_language_no_country=df1[(df1[\"country\"].isnull() & df1[\"language\"].isnull())].count()\r\n",
    "print(f'Filmes sem países e sem idioma: {no_language_no_country[\"imdb_title_id\"]}')\r\n",
    "#Moda do idioma por país do filme que produz: \r\n",
    "print(f'\\n********* Correção por país *********')\r\n",
    "#modal_language_by_country=df1.groupby([\"country\"])[\"language\"].agg(pd.Series.mode).to_frame(name='new_language').reset_index()\r\n",
    "#df1.head(2)\r\n",
    "#df1=pd.merge(df1,modal_country_by_company, how='left', on=\"production_company\")\r\n",
    "#df1.loc[df1[\"country\"].isnull(),\"country\"]=df1.new_country\r\n",
    "#no_country=df1[df1[\"country\"].isnull()].count()\r\n",
    "#print(f'Filmes sem países pós correção por companhia: {no_country[\"imdb_title_id\"]}')\r\n",
    "#TRATAR IDIOMA NONE E NAN"
   ],
   "outputs": [],
   "metadata": {}
  },
  {
   "cell_type": "code",
   "execution_count": null,
   "source": [
    "df2.info()\r\n",
    "#Sem necessidade de tratamento dos dados\r\n",
    "#Se for utilizar dados de datas de nascimento e morte, precisa tratar."
   ],
   "outputs": [],
   "metadata": {}
  },
  {
   "cell_type": "code",
   "execution_count": null,
   "source": [
    "df3.info()\r\n",
    "#Sem necessidade de tratamento dos dados"
   ],
   "outputs": [],
   "metadata": {}
  },
  {
   "cell_type": "code",
   "execution_count": null,
   "source": [
    "df4.info()\r\n",
    "#Sem necessidade de tratamento dos dados"
   ],
   "outputs": [],
   "metadata": {}
  },
  {
   "cell_type": "code",
   "execution_count": null,
   "source": [
    "df4[df4[\"job\"].notnull()]"
   ],
   "outputs": [],
   "metadata": {}
  }
 ],
 "metadata": {
  "orig_nbformat": 4,
  "language_info": {
   "name": "python",
   "version": "3.8.8",
   "mimetype": "text/x-python",
   "codemirror_mode": {
    "name": "ipython",
    "version": 3
   },
   "pygments_lexer": "ipython3",
   "nbconvert_exporter": "python",
   "file_extension": ".py"
  },
  "kernelspec": {
   "name": "python3",
   "display_name": "Python 3.8.8 64-bit ('base': conda)"
  },
  "interpreter": {
   "hash": "0e7ad168d1e1203e24ba0e3f0069322975d9192a3f6583d32d7a13dadcf6adad"
  }
 },
 "nbformat": 4,
 "nbformat_minor": 2
}