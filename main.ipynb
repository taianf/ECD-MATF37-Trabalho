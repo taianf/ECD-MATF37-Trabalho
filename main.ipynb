{
 "cells": [
  {
   "cell_type": "code",
   "execution_count": 66,
   "source": [
    "####################################################################################\r\n",
    "#                                                                                  #                 \r\n",
    "# Trabalho Final das Disciplinas Estatística Aplicada e Programação com R e Python #\r\n",
    "# Discentes: Isabella Calfa e Taian Feitosa                                        #\r\n",
    "#                                                                                  #\r\n",
    "####################################################################################\r\n",
    "\r\n",
    "#Libs:\r\n",
    "import seaborn as sns\r\n",
    "import pandas as pd\r\n",
    "import numpy as np\r\n",
    "from scipy import stats"
   ],
   "outputs": [],
   "metadata": {}
  },
  {
   "cell_type": "code",
   "execution_count": 347,
   "source": [
    "df1 = pd.read_csv(\"IMDb movies.csv\")\r\n",
    "df2 = pd.read_csv(\"IMDb names.csv\")\r\n",
    "df3 = pd.read_csv(\"IMDb ratings.csv\")\r\n",
    "df4 = pd.read_csv(\"IMDb title_principals.csv\")"
   ],
   "outputs": [
    {
     "output_type": "stream",
     "name": "stderr",
     "text": [
      "C:\\Users\\Isabella Calfa\\anaconda3\\lib\\site-packages\\IPython\\core\\interactiveshell.py:3165: DtypeWarning: Columns (3) have mixed types.Specify dtype option on import or set low_memory=False.\n",
      "  has_raised = await self.run_ast_nodes(code_ast.body, cell_name,\n"
     ]
    }
   ],
   "metadata": {}
  },
  {
   "cell_type": "code",
   "execution_count": null,
   "source": [
    "#Tratamento de dados df1 (movies.csv)\r\n",
    "df1.info()"
   ],
   "outputs": [],
   "metadata": {}
  },
  {
   "cell_type": "code",
   "execution_count": null,
   "source": [
    "#Dados df1 (movies.csv)\r\n",
    "df1.head()\r\n",
    "#Corrigir nomes dos países, idioma, data de publicação (tem algumas só com ano) e ano (tem não int)\r\n",
    "#Determinar quantos países e quantos idiomas e qual o principal (primeiro)"
   ],
   "outputs": [],
   "metadata": {}
  },
  {
   "cell_type": "code",
   "execution_count": 537,
   "source": [
    "#Vamos tratar as colunas \"country\" e \"language\" para reduzir o quantitativo de valores nulos.\r\n",
    "df1 = pd.read_csv(\"IMDb movies.csv\", low_memory=False)\r\n",
    "#Total de linhas:\r\n",
    "total_rows=df1[\"country\"]\r\n",
    "#Ajuste do nome do país:\r\n",
    "print(f'\\n********* Correção por companhia *********')\r\n",
    "df1[\"country\"]=df1[\"country\"].astype(str)\r\n",
    "df1[\"production_company\"]=df1[\"production_company\"].astype(str)\r\n",
    "#Filmes sem países:\r\n",
    "no_country=df1[df1[\"country\"]==\"nan\"].count()\r\n",
    "print(f'Filmes sem países: {no_country[\"imdb_title_id\"]}')\r\n",
    "#Conversão pela moda:\r\n",
    "dfx=df1[df1[\"country\"]!=\"nan\"] #Retirando países NaN pós conversão para string\r\n",
    "dfx=df1.groupby([\"production_company\"])[\"country\"].agg([pd.Series.min,pd.Series.mode])\r\n",
    "dfx[\"mode_string\"]=dfx[\"mode\"].astype(str).str.startswith('[') \r\n",
    "df1=pd.merge(df1,dfx, how='left', on=\"production_company\")\r\n",
    "##Se houver mais de uma moda, considera pela primeira vez que a companhia apareceu\r\n",
    "df1.loc[(df1[\"country\"]==\"nan\") & (df1[\"mode_string\"]==False),\"country\"]=df1[\"mode\"]\r\n",
    "df1.loc[(df1[\"country\"]==\"nan\") & (df1[\"mode_string\"]==True),\"country\"]=df1[\"min\"]\r\n",
    "#Títulos de teste:\r\n",
    "df1[(df1[\"imdb_title_id\"]==\"tt3248148\") | (df1[\"imdb_title_id\"]==\"tt0000009\") | (df1[\"imdb_title_id\"]==\"tt10452854\")]\r\n",
    "#Validação pós correção:\r\n",
    "no_country=df1[df1[\"country\"]==\"nan\"].count()\r\n",
    "print(f'Filmes sem países pós correção por companhia: {no_country[\"imdb_title_id\"]}')"
   ],
   "outputs": [
    {
     "output_type": "stream",
     "name": "stdout",
     "text": [
      "\n",
      "********* Correção por companhia *********\n",
      "Filmes sem países: 64\n",
      "Filmes sem países pós correção por companhia: 26\n"
     ]
    }
   ],
   "metadata": {}
  },
  {
   "cell_type": "code",
   "execution_count": 445,
   "source": [
    "#Filmes sem países:\r\n",
    "no_country_no_company=df1[(df1[\"country\"]==\"NI\") & df1[\"production_company\"].isnull()].count()\r\n",
    "print(f'Filmes sem países e sem companhias: {no_country_no_company[\"imdb_title_id\"]}')\r\n",
    "#Alterando Null para NI\r\n",
    "df1.loc[df1[\"country\"].isnull(),\"country\"]=\"NI\"\r\n",
    "country_null=df1[df1[\"country\"].isnull()].count()\r\n",
    "print(f'Filmes sem países: {country_null[\"imdb_title_id\"]}')\r\n",
    "country_NI=df1[df1[\"country\"]==\"NI\"].count()\r\n",
    "print(f'Filmes com país NI: {country_NI[\"imdb_title_id\"]}')"
   ],
   "outputs": [
    {
     "output_type": "stream",
     "name": "stdout",
     "text": [
      "Filmes sem países: 64\n",
      "Filmes sem países: 0\n",
      "Filmes com país NI: 64\n"
     ]
    }
   ],
   "metadata": {}
  },
  {
   "cell_type": "code",
   "execution_count": 443,
   "source": [
    "df1[df1[\"production_company\"]==\"Big Book Media\"][\"country\"]"
   ],
   "outputs": [
    {
     "output_type": "execute_result",
     "data": {
      "text/plain": [
       "70482                  NI\n",
       "70500                  NI\n",
       "71285    UK, USA, Morocco\n",
       "73086    USA, UK, Morocco\n",
       "79347                  UK\n",
       "Name: country, dtype: object"
      ]
     },
     "metadata": {},
     "execution_count": 443
    }
   ],
   "metadata": {}
  },
  {
   "cell_type": "code",
   "execution_count": 489,
   "source": [
    "#df1[df1[\"imdb_title_id\"]==\"tt3248148\"][\"production_company\"]\r\n",
    "a=df1[df1[\"production_company\"]==\"Big Book Media\"][\"country\"].str.split(',').astype(str)\r\n",
    "print(a)\r\n",
    "v=[]\r\n",
    "for i in range(0,5):\r\n",
    "    v.append(a.iloc[i])\r\n",
    "print(v)\r\n",
    "#abs.map(lambda x: ','.join(sorted(x)))"
   ],
   "outputs": [
    {
     "output_type": "stream",
     "name": "stdout",
     "text": [
      "70482                       ['nan']\n",
      "70500                       ['nan']\n",
      "71285    ['UK', ' USA', ' Morocco']\n",
      "73086    ['USA', ' UK', ' Morocco']\n",
      "79347                        ['UK']\n",
      "Name: country, dtype: object\n",
      "[\"['nan']\", \"['nan']\", \"['UK', ' USA', ' Morocco']\", \"['USA', ' UK', ' Morocco']\", \"['UK']\"]\n"
     ]
    }
   ],
   "metadata": {}
  },
  {
   "cell_type": "code",
   "execution_count": null,
   "source": [
    "#Quantidade de países (ou grupo de) distintos:\r\n",
    "countries=df1[\"country\"].apply(lambda x: str(x)).unique()\r\n",
    "print(f'Qtd. países (ou grupo): {len(countries):,.0f}.')\r\n",
    "print(f'Países: \\n{countries[:50]}')"
   ],
   "outputs": [],
   "metadata": {}
  },
  {
   "cell_type": "code",
   "execution_count": null,
   "source": [
    "#Definindo quantidade de países:\r\n",
    "n_country=df1.groupby([\"imdb_title_id\"])[df1[df1[\"country\"].str.contains(\",\")]].count()\r\n",
    "n_country.head(5)\r\n",
    "#Definindo país princial:"
   ],
   "outputs": [],
   "metadata": {}
  },
  {
   "cell_type": "code",
   "execution_count": null,
   "source": [
    "#Filmes sem idioma:\r\n",
    "no_country=df1[df1[\"language\"].isnull()].count()\r\n",
    "print(f'Filmes sem idioma: {no_country[\"imdb_title_id\"]}')\r\n",
    "no_language_no_country=df1[(df1[\"country\"].isnull() & df1[\"language\"].isnull())].count()\r\n",
    "print(f'Filmes sem países e sem idioma: {no_language_no_country[\"imdb_title_id\"]}')\r\n",
    "#Moda do idioma por país do filme que produz: \r\n",
    "print(f'\\n********* Correção por país *********')\r\n",
    "#modal_language_by_country=df1.groupby([\"country\"])[\"language\"].agg(pd.Series.mode).to_frame(name='new_language').reset_index()\r\n",
    "#df1.head(2)\r\n",
    "#df1=pd.merge(df1,modal_country_by_company, how='left', on=\"production_company\")\r\n",
    "#df1.loc[df1[\"country\"].isnull(),\"country\"]=df1.new_country\r\n",
    "#no_country=df1[df1[\"country\"].isnull()].count()\r\n",
    "#print(f'Filmes sem países pós correção por companhia: {no_country[\"imdb_title_id\"]}')\r\n",
    "#TRATAR IDIOMA NONE E NAN"
   ],
   "outputs": [],
   "metadata": {}
  },
  {
   "cell_type": "code",
   "execution_count": null,
   "source": [
    "df2.info()\r\n",
    "#Sem necessidade de tratamento dos dados\r\n",
    "#Se for utilizar dados de datas de nascimento e morte, precisa tratar."
   ],
   "outputs": [],
   "metadata": {}
  },
  {
   "cell_type": "code",
   "execution_count": null,
   "source": [
    "df3.info()\r\n",
    "#Sem necessidade de tratamento dos dados"
   ],
   "outputs": [],
   "metadata": {}
  },
  {
   "cell_type": "code",
   "execution_count": null,
   "source": [
    "df4.info()\r\n",
    "#Sem necessidade de tratamento dos dados"
   ],
   "outputs": [],
   "metadata": {}
  },
  {
   "cell_type": "code",
   "execution_count": null,
   "source": [
    "df4[df4[\"job\"].notnull()]"
   ],
   "outputs": [],
   "metadata": {}
  }
 ],
 "metadata": {
  "orig_nbformat": 4,
  "language_info": {
   "name": "python",
   "version": "3.8.8",
   "mimetype": "text/x-python",
   "codemirror_mode": {
    "name": "ipython",
    "version": 3
   },
   "pygments_lexer": "ipython3",
   "nbconvert_exporter": "python",
   "file_extension": ".py"
  },
  "kernelspec": {
   "name": "python3",
   "display_name": "Python 3.8.8 64-bit ('base': conda)"
  },
  "interpreter": {
   "hash": "0e7ad168d1e1203e24ba0e3f0069322975d9192a3f6583d32d7a13dadcf6adad"
  }
 },
 "nbformat": 4,
 "nbformat_minor": 2
}