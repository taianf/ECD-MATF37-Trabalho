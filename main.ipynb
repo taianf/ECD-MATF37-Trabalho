{
 "cells": [
  {
   "cell_type": "code",
   "execution_count": 587,
   "source": [
    "####################################################################################\r\n",
    "#  # \r\n",
    "# Trabalho Final das Disciplinas Estatística Aplicada e Programação com R e Python #\r\n",
    "# Discentes: Isabella Calfa e Taian Feitosa#\r\n",
    "#  #\r\n",
    "####################################################################################\r\n",
    "\r\n",
    "#Libs:\r\n",
    "import seaborn as sns\r\n",
    "import pandas as pd\r\n",
    "import numpy as np\r\n",
    "from scipy import stats"
   ],
   "outputs": [],
   "metadata": {}
  },
  {
   "cell_type": "code",
   "execution_count": 630,
   "source": [
    "#Exportações:\r\n",
    "print(f'\\n********* Inicio da Exportação de IMDB movies.csv *********')\r\n",
    "df1 = pd.read_csv(\"IMDb movies.csv\", low_memory=False)\r\n",
    "print(f'*********** Fim da Exportação de IMDB movies.csv **********')\r\n",
    "print(f'\\n********* Inicio da Exportação de IMDB names.csv *********')\r\n",
    "df2 = pd.read_csv(\"IMDb names.csv\")\r\n",
    "print(f'*********** Fim da Exportação de IMDB names.csv **********')\r\n",
    "print(f'\\n********* Inicio da Exportação de IMDB ratings.csv *********')\r\n",
    "df3 = pd.read_csv(\"IMDb ratings.csv\")\r\n",
    "print(f'*********** Fim da Exportação de IMDB ratings.csv **********')\r\n",
    "print(f'\\n********* Inicio da Exportação de IMDB title_principals.csv *********')\r\n",
    "df4 = pd.read_csv(\"IMDb title_principals.csv\")\r\n",
    "print(f'*********** Fim da Exportação de IMDB title_principals.csv **********')"
   ],
   "outputs": [
    {
     "output_type": "stream",
     "name": "stdout",
     "text": [
      "\n",
      "********* Inicio da Exportação de IMDB movies.csv *********\n",
      "*********** Fim da Exportação de IMDB movies.csv **********\n",
      "\n",
      "********* Inicio da Exportação de IMDB names.csv *********\n",
      "*********** Fim da Exportação de IMDB names.csv **********\n",
      "\n",
      "********* Inicio da Exportação de IMDB ratings.csv *********\n",
      "*********** Fim da Exportação de IMDB ratings.csv **********\n",
      "\n",
      "********* Inicio da Exportação de IMDB title_principals.csv *********\n",
      "*********** Fim da Exportação de IMDB title_principals.csv **********\n"
     ]
    }
   ],
   "metadata": {}
  },
  {
   "cell_type": "code",
   "execution_count": null,
   "source": [
    "#Tratamento de dados df1 (movies.csv)\r\n",
    "df1.info()"
   ],
   "outputs": [],
   "metadata": {}
  },
  {
   "cell_type": "code",
   "execution_count": null,
   "source": [
    "#Dados df1 (movies.csv)\r\n",
    "df1.head()"
   ],
   "outputs": [],
   "metadata": {}
  },
  {
   "cell_type": "code",
   "execution_count": 631,
   "source": [
    "#Correção dos países:\r\n",
    "#Total de linhas:\r\n",
    "total_rows=df1[\"country\"]\r\n",
    "#Ajuste dos tipos de variáveis:\r\n",
    "print(f'\\n********* Correção por companhia *********')\r\n",
    "df1[\"country\"]=df1[\"country\"].astype(str)\r\n",
    "df1[\"production_company\"]=df1[\"production_company\"].astype(str)\r\n",
    "#Filmes sem países:\r\n",
    "no_country=df1[df1[\"country\"]==\"nan\"].count()\r\n",
    "print(f'Filmes sem países: {no_country[\"imdb_title_id\"]}')\r\n",
    "#Conversão pela moda:\r\n",
    "dfx=df1[df1[\"country\"]!=\"nan\"] #Retirando países NaN pós conversão para string\r\n",
    "dfx=df1.groupby([\"production_company\"])[\"country\"].agg([pd.Series.min,pd.Series.mode])\r\n",
    "dfx[\"mode_string\"]=dfx[\"mode\"].astype(str).str.startswith('[') \r\n",
    "df1=pd.merge(df1,dfx, how='left', on=\"production_company\")\r\n",
    "##Se houver mais de uma moda, considera pela primeira vez que a companhia apareceu\r\n",
    "df1.loc[(df1[\"country\"]==\"nan\") & (df1[\"mode_string\"]==False),\"country\"]=df1[\"mode\"]\r\n",
    "df1.loc[(df1[\"country\"]==\"nan\") & (df1[\"mode_string\"]==True),\"country\"]=df1[\"min\"]\r\n",
    "#Títulos de teste:\r\n",
    "df1[(df1[\"imdb_title_id\"]==\"tt3248148\") | (df1[\"imdb_title_id\"]==\"tt0000009\") | (df1[\"imdb_title_id\"]==\"tt10452854\")]\r\n",
    "#Validação pós correção:\r\n",
    "no_country=df1[df1[\"country\"]==\"nan\"].count()\r\n",
    "print(f'Filmes sem países pós correção por companhia: {no_country[\"imdb_title_id\"]}')\r\n",
    "#Quantidade de países do filme:\r\n",
    "df1[\"n_country\"]=df1[\"country\"].astype(str).str.count(',')+1\r\n",
    "#Primeiro país do filme:\r\n",
    "df1[\"first_country\"]=df1[\"country\"].astype(str).str.split(',').str[0]"
   ],
   "outputs": [
    {
     "output_type": "stream",
     "name": "stdout",
     "text": [
      "\n",
      "********* Correção por companhia *********\n",
      "Filmes sem países: 64\n",
      "Filmes sem países pós correção por companhia: 26\n"
     ]
    }
   ],
   "metadata": {}
  },
  {
   "cell_type": "code",
   "execution_count": 632,
   "source": [
    "#Correção dos idiomas:\r\n",
    "#Filmes sem idioma:\r\n",
    "no_language=df1[df1[\"language\"].isnull()].count()\r\n",
    "print(f'Filmes sem idioma: {no_language[\"imdb_title_id\"]}')\r\n",
    "no_language_no_country=df1[(df1[\"country\"]==\"nan\") & (df1[\"language\"].isnull())].count()\r\n",
    "print(f'Filmes sem países e sem idioma: {no_language_no_country[\"imdb_title_id\"]}')\r\n",
    "#Ajuste dos tipos de variáveis:\r\n",
    "df1[\"language\"]=df1[\"language\"].astype(str)\r\n",
    "#Moda do idioma por país do filme que produz: \r\n",
    "print(f'\\n********* Correção por país *********')\r\n",
    "modal_language_by_country=df1.groupby([\"country\"])[\"language\"].agg(lambda x: pd.Series.mode(x).iat[0]).to_frame(name='new_language')\r\n",
    "df1=pd.merge(df1,modal_language_by_country, how='left', on=\"country\")\r\n",
    "df1.loc[df1[\"language\"]==\"nan\",\"language\"]=df1.new_language\r\n",
    "no_language=df1[df1[\"language\"]==\"nan\"].count()\r\n",
    "print(f'Filmes sem países pós correção por companhia: {no_language[\"imdb_title_id\"]}')\r\n",
    "#Quantidade de países do filme:\r\n",
    "df1[\"n_language\"]=df1[\"language\"].astype(str).str.count(',')+1\r\n",
    "#Primeiro país do filme:\r\n",
    "df1[\"first_language\"]=df1[\"language\"].astype(str).str.split(',').str[0]"
   ],
   "outputs": [
    {
     "output_type": "stream",
     "name": "stdout",
     "text": [
      "Filmes sem idioma: 833\n",
      "Filmes sem países e sem idioma: 6\n",
      "\n",
      "********* Correção por país *********\n",
      "Filmes sem países pós correção por companhia: 19\n"
     ]
    }
   ],
   "metadata": {}
  },
  {
   "cell_type": "code",
   "execution_count": null,
   "source": [
    "#Correção das datas:\r\n",
    "df1.loc[df1[\"imdb_title_id\"]==\"tt8206668\",\"date_published\"]=2019\r\n",
    "df1.loc[df1[\"imdb_title_id\"]==\"tt8206668\",\"year\"]=2019\r\n",
    "df1[\"date_published\"]=pd.to_datetime(df1[\"date_published\"],errors = \"coerce\")\r\n",
    "df1[df1[\"date_published\"].isnull()==True]"
   ],
   "outputs": [],
   "metadata": {}
  },
  {
   "cell_type": "code",
   "execution_count": null,
   "source": [
    "#Correção de anos:\r\n",
    "df1[\"year\"]=pd.to_numeric(df1[\"year\"],errors = \"coerce\")\r\n",
    "df1[df1[\"year\"].isnull()==True]"
   ],
   "outputs": [],
   "metadata": {}
  },
  {
   "cell_type": "code",
   "execution_count": null,
   "source": [
    "df2.info()\r\n",
    "#Sem necessidade de tratamento dos dados\r\n",
    "#Se for utilizar dados de datas de nascimento e morte, precisa tratar."
   ],
   "outputs": [],
   "metadata": {}
  },
  {
   "cell_type": "code",
   "execution_count": null,
   "source": [
    "df3.info()\r\n",
    "#Sem necessidade de tratamento dos dados"
   ],
   "outputs": [],
   "metadata": {}
  },
  {
   "cell_type": "code",
   "execution_count": null,
   "source": [
    "df4.info()\r\n",
    "#Sem necessidade de tratamento dos dados"
   ],
   "outputs": [],
   "metadata": {}
  },
  {
   "cell_type": "code",
   "execution_count": null,
   "source": [
    "df4[df4[\"job\"].notnull()]"
   ],
   "outputs": [],
   "metadata": {}
  }
 ],
 "metadata": {
  "orig_nbformat": 4,
  "language_info": {
   "name": "python",
   "version": "3.8.8",
   "mimetype": "text/x-python",
   "codemirror_mode": {
    "name": "ipython",
    "version": 3
   },
   "pygments_lexer": "ipython3",
   "nbconvert_exporter": "python",
   "file_extension": ".py"
  },
  "kernelspec": {
   "name": "python3",
   "display_name": "Python 3.8.8 64-bit ('base': conda)"
  },
  "interpreter": {
   "hash": "0e7ad168d1e1203e24ba0e3f0069322975d9192a3f6583d32d7a13dadcf6adad"
  }
 },
 "nbformat": 4,
 "nbformat_minor": 2
}